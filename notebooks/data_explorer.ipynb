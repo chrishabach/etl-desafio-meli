{
 "cells": [
  {
   "cell_type": "code",
   "execution_count": 102,
   "metadata": {},
   "outputs": [],
   "source": [
    "import pandas as pd\n",
    "from pandas import json_normalize"
   ]
  },
  {
   "cell_type": "code",
   "execution_count": 133,
   "metadata": {},
   "outputs": [
    {
     "name": "stdout",
     "output_type": "stream",
     "text": [
      "Directorio actual de trabajo: c:\\Users\\chris\\OneDrive\\Documentos\\MercadoPago_ETL\\notebooks\n"
     ]
    }
   ],
   "source": [
    "import os\n",
    "print(\"Directorio actual de trabajo:\", os.getcwd())"
   ]
  },
  {
   "cell_type": "code",
   "execution_count": 135,
   "metadata": {},
   "outputs": [],
   "source": [
    "# Cargar los datos JSON desde un archivo\n",
    "data_prints = pd.read_json('../data/raw/prints.json', lines=True)\n",
    "\n",
    "# Normalizar el campo anidado\n",
    "data_prints = data_prints.join(json_normalize(data_prints['event_data']))\n",
    "\n",
    "# Seleccionar y renombrar las columnas necesarias\n",
    "data_prints = data_prints[['day', 'position', 'value_prop', 'user_id']]\n",
    "data_prints.rename(columns={'value_prop': 'event_value_prop', 'position': 'event_position'}, inplace=True)"
   ]
  },
  {
   "cell_type": "code",
   "execution_count": 136,
   "metadata": {},
   "outputs": [],
   "source": [
    "# Cargar los datos JSON desde un archivo\n",
    "data_taps = pd.read_json('../data/raw/taps.json', lines=True)\n",
    "\n",
    "# Normalizar el campo anidado\n",
    "data_taps = data_taps.join(json_normalize(data_taps['event_data']))\n",
    "\n",
    "# Seleccionar y renombrar las columnas necesarias\n",
    "data_taps = data_taps[['day', 'position', 'value_prop', 'user_id']]\n",
    "data_taps.rename(columns={'value_prop': 'event_value_prop', 'position': 'event_position'}, inplace=True)"
   ]
  },
  {
   "cell_type": "code",
   "execution_count": 137,
   "metadata": {},
   "outputs": [],
   "source": [
    "data_pays = pd.read_csv('../data/raw/pays.csv')"
   ]
  },
  {
   "cell_type": "code",
   "execution_count": 106,
   "metadata": {},
   "outputs": [
    {
     "data": {
      "text/html": [
       "<div>\n",
       "<style scoped>\n",
       "    .dataframe tbody tr th:only-of-type {\n",
       "        vertical-align: middle;\n",
       "    }\n",
       "\n",
       "    .dataframe tbody tr th {\n",
       "        vertical-align: top;\n",
       "    }\n",
       "\n",
       "    .dataframe thead th {\n",
       "        text-align: right;\n",
       "    }\n",
       "</style>\n",
       "<table border=\"1\" class=\"dataframe\">\n",
       "  <thead>\n",
       "    <tr style=\"text-align: right;\">\n",
       "      <th></th>\n",
       "      <th>day</th>\n",
       "      <th>event_position</th>\n",
       "      <th>event_value_prop</th>\n",
       "      <th>user_id</th>\n",
       "    </tr>\n",
       "  </thead>\n",
       "  <tbody>\n",
       "    <tr>\n",
       "      <th>0</th>\n",
       "      <td>2020-11-01</td>\n",
       "      <td>0</td>\n",
       "      <td>cellphone_recharge</td>\n",
       "      <td>98702</td>\n",
       "    </tr>\n",
       "    <tr>\n",
       "      <th>1</th>\n",
       "      <td>2020-11-01</td>\n",
       "      <td>1</td>\n",
       "      <td>prepaid</td>\n",
       "      <td>98702</td>\n",
       "    </tr>\n",
       "    <tr>\n",
       "      <th>2</th>\n",
       "      <td>2020-11-01</td>\n",
       "      <td>0</td>\n",
       "      <td>prepaid</td>\n",
       "      <td>63252</td>\n",
       "    </tr>\n",
       "    <tr>\n",
       "      <th>3</th>\n",
       "      <td>2020-11-01</td>\n",
       "      <td>0</td>\n",
       "      <td>cellphone_recharge</td>\n",
       "      <td>24728</td>\n",
       "    </tr>\n",
       "    <tr>\n",
       "      <th>4</th>\n",
       "      <td>2020-11-01</td>\n",
       "      <td>1</td>\n",
       "      <td>link_cobro</td>\n",
       "      <td>24728</td>\n",
       "    </tr>\n",
       "    <tr>\n",
       "      <th>...</th>\n",
       "      <td>...</td>\n",
       "      <td>...</td>\n",
       "      <td>...</td>\n",
       "      <td>...</td>\n",
       "    </tr>\n",
       "    <tr>\n",
       "      <th>508612</th>\n",
       "      <td>2020-11-30</td>\n",
       "      <td>0</td>\n",
       "      <td>send_money</td>\n",
       "      <td>50807</td>\n",
       "    </tr>\n",
       "    <tr>\n",
       "      <th>508613</th>\n",
       "      <td>2020-11-30</td>\n",
       "      <td>1</td>\n",
       "      <td>prepaid</td>\n",
       "      <td>50807</td>\n",
       "    </tr>\n",
       "    <tr>\n",
       "      <th>508614</th>\n",
       "      <td>2020-11-30</td>\n",
       "      <td>2</td>\n",
       "      <td>credits_consumer</td>\n",
       "      <td>50807</td>\n",
       "    </tr>\n",
       "    <tr>\n",
       "      <th>508615</th>\n",
       "      <td>2020-11-30</td>\n",
       "      <td>0</td>\n",
       "      <td>point</td>\n",
       "      <td>1487</td>\n",
       "    </tr>\n",
       "    <tr>\n",
       "      <th>508616</th>\n",
       "      <td>2020-11-30</td>\n",
       "      <td>0</td>\n",
       "      <td>send_money</td>\n",
       "      <td>9462</td>\n",
       "    </tr>\n",
       "  </tbody>\n",
       "</table>\n",
       "<p>508617 rows × 4 columns</p>\n",
       "</div>"
      ],
      "text/plain": [
       "               day  event_position    event_value_prop  user_id\n",
       "0       2020-11-01               0  cellphone_recharge    98702\n",
       "1       2020-11-01               1             prepaid    98702\n",
       "2       2020-11-01               0             prepaid    63252\n",
       "3       2020-11-01               0  cellphone_recharge    24728\n",
       "4       2020-11-01               1          link_cobro    24728\n",
       "...            ...             ...                 ...      ...\n",
       "508612  2020-11-30               0          send_money    50807\n",
       "508613  2020-11-30               1             prepaid    50807\n",
       "508614  2020-11-30               2    credits_consumer    50807\n",
       "508615  2020-11-30               0               point     1487\n",
       "508616  2020-11-30               0          send_money     9462\n",
       "\n",
       "[508617 rows x 4 columns]"
      ]
     },
     "execution_count": 106,
     "metadata": {},
     "output_type": "execute_result"
    }
   ],
   "source": [
    "data_prints"
   ]
  },
  {
   "cell_type": "code",
   "execution_count": 107,
   "metadata": {},
   "outputs": [
    {
     "name": "stdout",
     "output_type": "stream",
     "text": [
      "<class 'pandas.core.frame.DataFrame'>\n",
      "RangeIndex: 508617 entries, 0 to 508616\n",
      "Data columns (total 4 columns):\n",
      " #   Column            Non-Null Count   Dtype \n",
      "---  ------            --------------   ----- \n",
      " 0   day               508617 non-null  object\n",
      " 1   event_position    508617 non-null  int64 \n",
      " 2   event_value_prop  508617 non-null  object\n",
      " 3   user_id           508617 non-null  int64 \n",
      "dtypes: int64(2), object(2)\n",
      "memory usage: 15.5+ MB\n"
     ]
    }
   ],
   "source": [
    "data_prints.info()"
   ]
  },
  {
   "cell_type": "code",
   "execution_count": 108,
   "metadata": {},
   "outputs": [
    {
     "data": {
      "text/plain": [
       "0"
      ]
     },
     "execution_count": 108,
     "metadata": {},
     "output_type": "execute_result"
    }
   ],
   "source": [
    "data_prints.duplicated().sum()"
   ]
  },
  {
   "cell_type": "code",
   "execution_count": 109,
   "metadata": {},
   "outputs": [
    {
     "data": {
      "text/plain": [
       "0"
      ]
     },
     "execution_count": 109,
     "metadata": {},
     "output_type": "execute_result"
    }
   ],
   "source": [
    "data_prints[['day', 'event_value_prop', 'user_id']].duplicated().sum()"
   ]
  },
  {
   "cell_type": "code",
   "execution_count": 110,
   "metadata": {},
   "outputs": [
    {
     "data": {
      "text/plain": [
       "87864"
      ]
     },
     "execution_count": 110,
     "metadata": {},
     "output_type": "execute_result"
    }
   ],
   "source": [
    "data_prints['user_id'].nunique()"
   ]
  },
  {
   "cell_type": "code",
   "execution_count": 111,
   "metadata": {},
   "outputs": [
    {
     "name": "stdout",
     "output_type": "stream",
     "text": [
      "2020-11-01 00:00:00 - 2020-11-30 00:00:00\n"
     ]
    }
   ],
   "source": [
    "data_prints['day'] = pd.to_datetime(data_prints['day'], format='%Y-%m-%d')\n",
    "print(f\"{data_prints['day'].min()} - {data_prints['day'].max()}\")\n"
   ]
  },
  {
   "cell_type": "code",
   "execution_count": 112,
   "metadata": {},
   "outputs": [
    {
     "data": {
      "text/html": [
       "<div>\n",
       "<style scoped>\n",
       "    .dataframe tbody tr th:only-of-type {\n",
       "        vertical-align: middle;\n",
       "    }\n",
       "\n",
       "    .dataframe tbody tr th {\n",
       "        vertical-align: top;\n",
       "    }\n",
       "\n",
       "    .dataframe thead th {\n",
       "        text-align: right;\n",
       "    }\n",
       "</style>\n",
       "<table border=\"1\" class=\"dataframe\">\n",
       "  <thead>\n",
       "    <tr style=\"text-align: right;\">\n",
       "      <th></th>\n",
       "      <th>day</th>\n",
       "      <th>event_position</th>\n",
       "      <th>event_value_prop</th>\n",
       "      <th>user_id</th>\n",
       "    </tr>\n",
       "  </thead>\n",
       "  <tbody>\n",
       "    <tr>\n",
       "      <th>0</th>\n",
       "      <td>2020-11-01</td>\n",
       "      <td>0</td>\n",
       "      <td>cellphone_recharge</td>\n",
       "      <td>98702</td>\n",
       "    </tr>\n",
       "    <tr>\n",
       "      <th>1</th>\n",
       "      <td>2020-11-01</td>\n",
       "      <td>2</td>\n",
       "      <td>point</td>\n",
       "      <td>3708</td>\n",
       "    </tr>\n",
       "    <tr>\n",
       "      <th>2</th>\n",
       "      <td>2020-11-01</td>\n",
       "      <td>3</td>\n",
       "      <td>send_money</td>\n",
       "      <td>3708</td>\n",
       "    </tr>\n",
       "    <tr>\n",
       "      <th>3</th>\n",
       "      <td>2020-11-01</td>\n",
       "      <td>0</td>\n",
       "      <td>transport</td>\n",
       "      <td>93963</td>\n",
       "    </tr>\n",
       "    <tr>\n",
       "      <th>4</th>\n",
       "      <td>2020-11-01</td>\n",
       "      <td>1</td>\n",
       "      <td>cellphone_recharge</td>\n",
       "      <td>93963</td>\n",
       "    </tr>\n",
       "    <tr>\n",
       "      <th>...</th>\n",
       "      <td>...</td>\n",
       "      <td>...</td>\n",
       "      <td>...</td>\n",
       "      <td>...</td>\n",
       "    </tr>\n",
       "    <tr>\n",
       "      <th>50854</th>\n",
       "      <td>2020-11-30</td>\n",
       "      <td>2</td>\n",
       "      <td>credits_consumer</td>\n",
       "      <td>64149</td>\n",
       "    </tr>\n",
       "    <tr>\n",
       "      <th>50855</th>\n",
       "      <td>2020-11-30</td>\n",
       "      <td>1</td>\n",
       "      <td>point</td>\n",
       "      <td>3329</td>\n",
       "    </tr>\n",
       "    <tr>\n",
       "      <th>50856</th>\n",
       "      <td>2020-11-30</td>\n",
       "      <td>1</td>\n",
       "      <td>cellphone_recharge</td>\n",
       "      <td>77012</td>\n",
       "    </tr>\n",
       "    <tr>\n",
       "      <th>50857</th>\n",
       "      <td>2020-11-30</td>\n",
       "      <td>2</td>\n",
       "      <td>cellphone_recharge</td>\n",
       "      <td>14704</td>\n",
       "    </tr>\n",
       "    <tr>\n",
       "      <th>50858</th>\n",
       "      <td>2020-11-30</td>\n",
       "      <td>2</td>\n",
       "      <td>transport</td>\n",
       "      <td>93605</td>\n",
       "    </tr>\n",
       "  </tbody>\n",
       "</table>\n",
       "<p>50859 rows × 4 columns</p>\n",
       "</div>"
      ],
      "text/plain": [
       "              day  event_position    event_value_prop  user_id\n",
       "0      2020-11-01               0  cellphone_recharge    98702\n",
       "1      2020-11-01               2               point     3708\n",
       "2      2020-11-01               3          send_money     3708\n",
       "3      2020-11-01               0           transport    93963\n",
       "4      2020-11-01               1  cellphone_recharge    93963\n",
       "...           ...             ...                 ...      ...\n",
       "50854  2020-11-30               2    credits_consumer    64149\n",
       "50855  2020-11-30               1               point     3329\n",
       "50856  2020-11-30               1  cellphone_recharge    77012\n",
       "50857  2020-11-30               2  cellphone_recharge    14704\n",
       "50858  2020-11-30               2           transport    93605\n",
       "\n",
       "[50859 rows x 4 columns]"
      ]
     },
     "execution_count": 112,
     "metadata": {},
     "output_type": "execute_result"
    }
   ],
   "source": [
    "data_taps"
   ]
  },
  {
   "cell_type": "code",
   "execution_count": 113,
   "metadata": {},
   "outputs": [
    {
     "name": "stdout",
     "output_type": "stream",
     "text": [
      "<class 'pandas.core.frame.DataFrame'>\n",
      "RangeIndex: 50859 entries, 0 to 50858\n",
      "Data columns (total 4 columns):\n",
      " #   Column            Non-Null Count  Dtype \n",
      "---  ------            --------------  ----- \n",
      " 0   day               50859 non-null  object\n",
      " 1   event_position    50859 non-null  int64 \n",
      " 2   event_value_prop  50859 non-null  object\n",
      " 3   user_id           50859 non-null  int64 \n",
      "dtypes: int64(2), object(2)\n",
      "memory usage: 1.6+ MB\n"
     ]
    }
   ],
   "source": [
    "data_taps.info()"
   ]
  },
  {
   "cell_type": "code",
   "execution_count": 114,
   "metadata": {},
   "outputs": [
    {
     "data": {
      "text/plain": [
       "0"
      ]
     },
     "execution_count": 114,
     "metadata": {},
     "output_type": "execute_result"
    }
   ],
   "source": [
    "data_taps.duplicated().sum()"
   ]
  },
  {
   "cell_type": "code",
   "execution_count": 115,
   "metadata": {},
   "outputs": [
    {
     "data": {
      "text/plain": [
       "0"
      ]
     },
     "execution_count": 115,
     "metadata": {},
     "output_type": "execute_result"
    }
   ],
   "source": [
    "data_taps[['day', 'event_value_prop', 'user_id']].duplicated().sum()"
   ]
  },
  {
   "cell_type": "code",
   "execution_count": 116,
   "metadata": {},
   "outputs": [
    {
     "name": "stdout",
     "output_type": "stream",
     "text": [
      "2020-11-01 00:00:00 - 2020-11-30 00:00:00\n"
     ]
    }
   ],
   "source": [
    "data_taps['day'] = pd.to_datetime(data_taps['day'], format='%Y-%m-%d')\n",
    "print(f\"{data_taps['day'].min()} - {data_taps['day'].max()}\")"
   ]
  },
  {
   "cell_type": "code",
   "execution_count": 117,
   "metadata": {},
   "outputs": [
    {
     "name": "stdout",
     "output_type": "stream",
     "text": [
      "<class 'pandas.core.frame.DataFrame'>\n",
      "RangeIndex: 50859 entries, 0 to 50858\n",
      "Data columns (total 4 columns):\n",
      " #   Column            Non-Null Count  Dtype         \n",
      "---  ------            --------------  -----         \n",
      " 0   day               50859 non-null  datetime64[ns]\n",
      " 1   event_position    50859 non-null  int64         \n",
      " 2   event_value_prop  50859 non-null  object        \n",
      " 3   user_id           50859 non-null  int64         \n",
      "dtypes: datetime64[ns](1), int64(2), object(1)\n",
      "memory usage: 1.6+ MB\n"
     ]
    }
   ],
   "source": [
    "resultado = pd.merge(data_prints, data_taps, on=['day', 'event_position', 'event_value_prop', 'user_id'], how='inner', suffixes=('_prints', '_taps'))\n",
    "resultado.info()"
   ]
  },
  {
   "cell_type": "code",
   "execution_count": 118,
   "metadata": {},
   "outputs": [
    {
     "data": {
      "text/html": [
       "<div>\n",
       "<style scoped>\n",
       "    .dataframe tbody tr th:only-of-type {\n",
       "        vertical-align: middle;\n",
       "    }\n",
       "\n",
       "    .dataframe tbody tr th {\n",
       "        vertical-align: top;\n",
       "    }\n",
       "\n",
       "    .dataframe thead th {\n",
       "        text-align: right;\n",
       "    }\n",
       "</style>\n",
       "<table border=\"1\" class=\"dataframe\">\n",
       "  <thead>\n",
       "    <tr style=\"text-align: right;\">\n",
       "      <th></th>\n",
       "      <th>pay_date</th>\n",
       "      <th>total</th>\n",
       "      <th>user_id</th>\n",
       "      <th>value_prop</th>\n",
       "    </tr>\n",
       "  </thead>\n",
       "  <tbody>\n",
       "    <tr>\n",
       "      <th>0</th>\n",
       "      <td>2020-11-01</td>\n",
       "      <td>7.04</td>\n",
       "      <td>35994</td>\n",
       "      <td>link_cobro</td>\n",
       "    </tr>\n",
       "    <tr>\n",
       "      <th>1</th>\n",
       "      <td>2020-11-01</td>\n",
       "      <td>37.36</td>\n",
       "      <td>79066</td>\n",
       "      <td>cellphone_recharge</td>\n",
       "    </tr>\n",
       "    <tr>\n",
       "      <th>2</th>\n",
       "      <td>2020-11-01</td>\n",
       "      <td>15.84</td>\n",
       "      <td>19321</td>\n",
       "      <td>cellphone_recharge</td>\n",
       "    </tr>\n",
       "    <tr>\n",
       "      <th>3</th>\n",
       "      <td>2020-11-01</td>\n",
       "      <td>26.26</td>\n",
       "      <td>19321</td>\n",
       "      <td>send_money</td>\n",
       "    </tr>\n",
       "    <tr>\n",
       "      <th>4</th>\n",
       "      <td>2020-11-01</td>\n",
       "      <td>35.35</td>\n",
       "      <td>38438</td>\n",
       "      <td>send_money</td>\n",
       "    </tr>\n",
       "    <tr>\n",
       "      <th>...</th>\n",
       "      <td>...</td>\n",
       "      <td>...</td>\n",
       "      <td>...</td>\n",
       "      <td>...</td>\n",
       "    </tr>\n",
       "    <tr>\n",
       "      <th>756478</th>\n",
       "      <td>2020-11-30</td>\n",
       "      <td>17.76</td>\n",
       "      <td>74524</td>\n",
       "      <td>send_money</td>\n",
       "    </tr>\n",
       "    <tr>\n",
       "      <th>756479</th>\n",
       "      <td>2020-11-30</td>\n",
       "      <td>111.02</td>\n",
       "      <td>42594</td>\n",
       "      <td>transport</td>\n",
       "    </tr>\n",
       "    <tr>\n",
       "      <th>756480</th>\n",
       "      <td>2020-11-30</td>\n",
       "      <td>0.81</td>\n",
       "      <td>1338</td>\n",
       "      <td>transport</td>\n",
       "    </tr>\n",
       "    <tr>\n",
       "      <th>756481</th>\n",
       "      <td>2020-11-30</td>\n",
       "      <td>34.71</td>\n",
       "      <td>1338</td>\n",
       "      <td>credits_consumer</td>\n",
       "    </tr>\n",
       "    <tr>\n",
       "      <th>756482</th>\n",
       "      <td>2020-11-30</td>\n",
       "      <td>11.76</td>\n",
       "      <td>99962</td>\n",
       "      <td>prepaid</td>\n",
       "    </tr>\n",
       "  </tbody>\n",
       "</table>\n",
       "<p>756483 rows × 4 columns</p>\n",
       "</div>"
      ],
      "text/plain": [
       "          pay_date   total  user_id          value_prop\n",
       "0       2020-11-01    7.04    35994          link_cobro\n",
       "1       2020-11-01   37.36    79066  cellphone_recharge\n",
       "2       2020-11-01   15.84    19321  cellphone_recharge\n",
       "3       2020-11-01   26.26    19321          send_money\n",
       "4       2020-11-01   35.35    38438          send_money\n",
       "...            ...     ...      ...                 ...\n",
       "756478  2020-11-30   17.76    74524          send_money\n",
       "756479  2020-11-30  111.02    42594           transport\n",
       "756480  2020-11-30    0.81     1338           transport\n",
       "756481  2020-11-30   34.71     1338    credits_consumer\n",
       "756482  2020-11-30   11.76    99962             prepaid\n",
       "\n",
       "[756483 rows x 4 columns]"
      ]
     },
     "execution_count": 118,
     "metadata": {},
     "output_type": "execute_result"
    }
   ],
   "source": [
    "data_pays"
   ]
  },
  {
   "cell_type": "code",
   "execution_count": 119,
   "metadata": {},
   "outputs": [
    {
     "name": "stdout",
     "output_type": "stream",
     "text": [
      "<class 'pandas.core.frame.DataFrame'>\n",
      "RangeIndex: 756483 entries, 0 to 756482\n",
      "Data columns (total 4 columns):\n",
      " #   Column      Non-Null Count   Dtype  \n",
      "---  ------      --------------   -----  \n",
      " 0   pay_date    756483 non-null  object \n",
      " 1   total       756483 non-null  float64\n",
      " 2   user_id     756483 non-null  int64  \n",
      " 3   value_prop  756483 non-null  object \n",
      "dtypes: float64(1), int64(1), object(2)\n",
      "memory usage: 23.1+ MB\n"
     ]
    }
   ],
   "source": [
    "data_pays.info()"
   ]
  },
  {
   "cell_type": "code",
   "execution_count": 120,
   "metadata": {},
   "outputs": [
    {
     "data": {
      "text/plain": [
       "0"
      ]
     },
     "execution_count": 120,
     "metadata": {},
     "output_type": "execute_result"
    }
   ],
   "source": [
    "data_pays.duplicated().sum()"
   ]
  },
  {
   "cell_type": "code",
   "execution_count": 121,
   "metadata": {},
   "outputs": [
    {
     "data": {
      "text/plain": [
       "0"
      ]
     },
     "execution_count": 121,
     "metadata": {},
     "output_type": "execute_result"
    }
   ],
   "source": [
    "data_pays[['pay_date', 'user_id', 'value_prop']].duplicated().sum()"
   ]
  },
  {
   "cell_type": "code",
   "execution_count": 122,
   "metadata": {},
   "outputs": [
    {
     "data": {
      "text/plain": [
       "99605"
      ]
     },
     "execution_count": 122,
     "metadata": {},
     "output_type": "execute_result"
    }
   ],
   "source": [
    "data_pays['user_id'].nunique()"
   ]
  },
  {
   "cell_type": "code",
   "execution_count": 86,
   "metadata": {},
   "outputs": [
    {
     "name": "stdout",
     "output_type": "stream",
     "text": [
      "2020-11-01 00:00:00 - 2020-11-30 00:00:00\n"
     ]
    }
   ],
   "source": [
    "data_pays['pay_date'] = pd.to_datetime(data_pays['pay_date'], format='%Y-%m-%d')\n",
    "print(f\"{data_pays['pay_date'].min()} - {data_pays['pay_date'].max()}\")"
   ]
  },
  {
   "cell_type": "code",
   "execution_count": 88,
   "metadata": {},
   "outputs": [
    {
     "name": "stdout",
     "output_type": "stream",
     "text": [
      "<class 'pandas.core.frame.DataFrame'>\n",
      "RangeIndex: 18375 entries, 0 to 18374\n",
      "Data columns (total 5 columns):\n",
      " #   Column            Non-Null Count  Dtype         \n",
      "---  ------            --------------  -----         \n",
      " 0   day               18375 non-null  datetime64[ns]\n",
      " 1   event_position    18375 non-null  int64         \n",
      " 2   event_value_prop  18375 non-null  object        \n",
      " 3   user_id           18375 non-null  int64         \n",
      " 4   total             18375 non-null  float64       \n",
      "dtypes: datetime64[ns](1), float64(1), int64(2), object(1)\n",
      "memory usage: 717.9+ KB\n"
     ]
    }
   ],
   "source": [
    "data_pays.rename(columns={'pay_date': 'day', 'value_prop':'event_value_prop'}, inplace=True)\n",
    "resultado_2 = pd.merge(data_prints, data_pays, on=['day', 'user_id', 'event_value_prop'], how='inner', suffixes=('_prints', '_pay'))\n",
    "resultado_2.info()"
   ]
  },
  {
   "cell_type": "code",
   "execution_count": 89,
   "metadata": {},
   "outputs": [
    {
     "name": "stdout",
     "output_type": "stream",
     "text": [
      "<class 'pandas.core.frame.DataFrame'>\n",
      "RangeIndex: 549757 entries, 0 to 549756\n",
      "Data columns (total 6 columns):\n",
      " #   Column            Non-Null Count   Dtype         \n",
      "---  ------            --------------   -----         \n",
      " 0   day_prints        549757 non-null  datetime64[ns]\n",
      " 1   event_position    549757 non-null  int64         \n",
      " 2   event_value_prop  549757 non-null  object        \n",
      " 3   user_id           549757 non-null  int64         \n",
      " 4   day_pay           549757 non-null  datetime64[ns]\n",
      " 5   total             549757 non-null  float64       \n",
      "dtypes: datetime64[ns](2), float64(1), int64(2), object(1)\n",
      "memory usage: 25.2+ MB\n"
     ]
    }
   ],
   "source": [
    "resultado_3 = pd.merge(data_prints, data_pays, on=['user_id', 'event_value_prop'], how='inner', suffixes=('_prints', '_pay'))\n",
    "resultado_3.info()"
   ]
  },
  {
   "cell_type": "code",
   "execution_count": 90,
   "metadata": {},
   "outputs": [
    {
     "name": "stdout",
     "output_type": "stream",
     "text": [
      "<class 'pandas.core.frame.DataFrame'>\n",
      "RangeIndex: 718974 entries, 0 to 718973\n",
      "Data columns (total 6 columns):\n",
      " #   Column            Non-Null Count   Dtype         \n",
      "---  ------            --------------   -----         \n",
      " 0   day_prints        718974 non-null  datetime64[ns]\n",
      " 1   event_position    718974 non-null  int64         \n",
      " 2   event_value_prop  718974 non-null  object        \n",
      " 3   user_id           718974 non-null  int64         \n",
      " 4   day_pay           549757 non-null  datetime64[ns]\n",
      " 5   total             549757 non-null  float64       \n",
      "dtypes: datetime64[ns](2), float64(1), int64(2), object(1)\n",
      "memory usage: 32.9+ MB\n"
     ]
    }
   ],
   "source": [
    "resultado_4 = pd.merge(data_prints, data_pays, on=['user_id', 'event_value_prop'], how='left', suffixes=('_prints', '_pay'))\n",
    "resultado_4.info()"
   ]
  },
  {
   "cell_type": "code",
   "execution_count": 91,
   "metadata": {},
   "outputs": [],
   "source": [
    "agg_pays = data_pays.groupby(['user_id', 'event_value_prop']).agg(\n",
    "    total_suma=pd.NamedAgg(column='total', aggfunc='sum'),\n",
    "    conteo=pd.NamedAgg(column='user_id', aggfunc='count')\n",
    ")"
   ]
  },
  {
   "cell_type": "code",
   "execution_count": 92,
   "metadata": {},
   "outputs": [
    {
     "data": {
      "text/html": [
       "<div>\n",
       "<style scoped>\n",
       "    .dataframe tbody tr th:only-of-type {\n",
       "        vertical-align: middle;\n",
       "    }\n",
       "\n",
       "    .dataframe tbody tr th {\n",
       "        vertical-align: top;\n",
       "    }\n",
       "\n",
       "    .dataframe thead th {\n",
       "        text-align: right;\n",
       "    }\n",
       "</style>\n",
       "<table border=\"1\" class=\"dataframe\">\n",
       "  <thead>\n",
       "    <tr style=\"text-align: right;\">\n",
       "      <th></th>\n",
       "      <th></th>\n",
       "      <th>total_suma</th>\n",
       "      <th>conteo</th>\n",
       "    </tr>\n",
       "    <tr>\n",
       "      <th>user_id</th>\n",
       "      <th>event_value_prop</th>\n",
       "      <th></th>\n",
       "      <th></th>\n",
       "    </tr>\n",
       "  </thead>\n",
       "  <tbody>\n",
       "    <tr>\n",
       "      <th rowspan=\"4\" valign=\"top\">1</th>\n",
       "      <th>cellphone_recharge</th>\n",
       "      <td>15.47</td>\n",
       "      <td>1</td>\n",
       "    </tr>\n",
       "    <tr>\n",
       "      <th>credits_consumer</th>\n",
       "      <td>37.92</td>\n",
       "      <td>1</td>\n",
       "    </tr>\n",
       "    <tr>\n",
       "      <th>link_cobro</th>\n",
       "      <td>137.14</td>\n",
       "      <td>1</td>\n",
       "    </tr>\n",
       "    <tr>\n",
       "      <th>transport</th>\n",
       "      <td>100.89</td>\n",
       "      <td>1</td>\n",
       "    </tr>\n",
       "    <tr>\n",
       "      <th>2</th>\n",
       "      <th>credits_consumer</th>\n",
       "      <td>15.21</td>\n",
       "      <td>1</td>\n",
       "    </tr>\n",
       "    <tr>\n",
       "      <th>...</th>\n",
       "      <th>...</th>\n",
       "      <td>...</td>\n",
       "      <td>...</td>\n",
       "    </tr>\n",
       "    <tr>\n",
       "      <th rowspan=\"5\" valign=\"top\">100000</th>\n",
       "      <th>credits_consumer</th>\n",
       "      <td>17.73</td>\n",
       "      <td>1</td>\n",
       "    </tr>\n",
       "    <tr>\n",
       "      <th>point</th>\n",
       "      <td>96.02</td>\n",
       "      <td>1</td>\n",
       "    </tr>\n",
       "    <tr>\n",
       "      <th>prepaid</th>\n",
       "      <td>14.37</td>\n",
       "      <td>1</td>\n",
       "    </tr>\n",
       "    <tr>\n",
       "      <th>send_money</th>\n",
       "      <td>149.34</td>\n",
       "      <td>3</td>\n",
       "    </tr>\n",
       "    <tr>\n",
       "      <th>transport</th>\n",
       "      <td>16.46</td>\n",
       "      <td>2</td>\n",
       "    </tr>\n",
       "  </tbody>\n",
       "</table>\n",
       "<p>466812 rows × 2 columns</p>\n",
       "</div>"
      ],
      "text/plain": [
       "                            total_suma  conteo\n",
       "user_id event_value_prop                      \n",
       "1       cellphone_recharge       15.47       1\n",
       "        credits_consumer         37.92       1\n",
       "        link_cobro              137.14       1\n",
       "        transport               100.89       1\n",
       "2       credits_consumer         15.21       1\n",
       "...                                ...     ...\n",
       "100000  credits_consumer         17.73       1\n",
       "        point                    96.02       1\n",
       "        prepaid                  14.37       1\n",
       "        send_money              149.34       3\n",
       "        transport                16.46       2\n",
       "\n",
       "[466812 rows x 2 columns]"
      ]
     },
     "execution_count": 92,
     "metadata": {},
     "output_type": "execute_result"
    }
   ],
   "source": [
    "agg_pays"
   ]
  },
  {
   "cell_type": "code",
   "execution_count": 124,
   "metadata": {},
   "outputs": [
    {
     "name": "stdout",
     "output_type": "stream",
     "text": [
      "Elementos comunes entre data_prints y data_pays: 87526\n"
     ]
    }
   ],
   "source": [
    "comunes = list(set(data_prints['user_id'].tolist()) & set(data_pays['user_id'].tolist()))\n",
    "print(f\"Elementos comunes entre data_prints y data_pays: {len(comunes)}\")"
   ]
  },
  {
   "cell_type": "code",
   "execution_count": 126,
   "metadata": {},
   "outputs": [],
   "source": [
    "# Convertir las columnas de user_id a conjuntos (sets)\n",
    "set_data_prints = set(data_prints['user_id'])\n",
    "set_data_pays = set(data_pays['user_id'])\n",
    "\n",
    "# Encontrar los elementos únicos en cada conjunto\n",
    "unicos_data_prints = list(set_data_prints - set_data_pays)\n",
    "unicos_data_pays = list(set_data_pays - set_data_prints)"
   ]
  },
  {
   "cell_type": "code",
   "execution_count": 127,
   "metadata": {},
   "outputs": [
    {
     "data": {
      "text/plain": [
       "338"
      ]
     },
     "execution_count": 127,
     "metadata": {},
     "output_type": "execute_result"
    }
   ],
   "source": [
    "len(unicos_data_prints)"
   ]
  },
  {
   "cell_type": "code",
   "execution_count": 128,
   "metadata": {},
   "outputs": [
    {
     "data": {
      "text/plain": [
       "12079"
      ]
     },
     "execution_count": 128,
     "metadata": {},
     "output_type": "execute_result"
    }
   ],
   "source": [
    "len(unicos_data_pays)"
   ]
  },
  {
   "cell_type": "code",
   "execution_count": 129,
   "metadata": {},
   "outputs": [],
   "source": [
    "set_data_taps = set(data_taps['user_id'])\n",
    "\n",
    "# Encontrar los elementos únicos en cada conjunto\n",
    "unicos_data_taps = list(set_data_taps - set_data_pays)\n",
    "unicos_data_pays = list(set_data_pays - set_data_taps)"
   ]
  },
  {
   "cell_type": "code",
   "execution_count": 130,
   "metadata": {},
   "outputs": [
    {
     "data": {
      "text/plain": [
       "153"
      ]
     },
     "execution_count": 130,
     "metadata": {},
     "output_type": "execute_result"
    }
   ],
   "source": [
    "len(unicos_data_taps)"
   ]
  },
  {
   "cell_type": "code",
   "execution_count": 131,
   "metadata": {},
   "outputs": [
    {
     "data": {
      "text/plain": [
       "62701"
      ]
     },
     "execution_count": 131,
     "metadata": {},
     "output_type": "execute_result"
    }
   ],
   "source": [
    "len(unicos_data_pays)"
   ]
  }
 ],
 "metadata": {
  "kernelspec": {
   "display_name": "venv",
   "language": "python",
   "name": "python3"
  },
  "language_info": {
   "codemirror_mode": {
    "name": "ipython",
    "version": 3
   },
   "file_extension": ".py",
   "mimetype": "text/x-python",
   "name": "python",
   "nbconvert_exporter": "python",
   "pygments_lexer": "ipython3",
   "version": "3.11.4"
  }
 },
 "nbformat": 4,
 "nbformat_minor": 2
}
